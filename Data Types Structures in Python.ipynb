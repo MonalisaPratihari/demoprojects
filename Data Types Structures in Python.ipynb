{
 "cells": [
  {
   "cell_type": "markdown",
   "id": "526c4cee",
   "metadata": {},
   "source": [
    "# DATA Types/ Structures\n",
    "  *Numbers\n",
    "  *String\n",
    "  *List\n",
    "  *Tuple\n",
    "  *Set\n",
    "  *Dictionary\n",
    "  \n",
    "  \n",
    "  NUMBERS\n",
    "  \n",
    "  Integers (int)"
   ]
  },
  {
   "cell_type": "code",
   "execution_count": 9,
   "id": "f60b4e34",
   "metadata": {},
   "outputs": [],
   "source": [
    "# Variable and data assignments\n",
    "# b = variable\n",
    "# 45 = data\n",
    "\n",
    "b = 45"
   ]
  },
  {
   "cell_type": "code",
   "execution_count": 10,
   "id": "18128fa0",
   "metadata": {},
   "outputs": [
    {
     "name": "stdout",
     "output_type": "stream",
     "text": [
      "45\n"
     ]
    }
   ],
   "source": [
    "print(b)"
   ]
  },
  {
   "cell_type": "code",
   "execution_count": 11,
   "id": "4e7d99be",
   "metadata": {},
   "outputs": [
    {
     "data": {
      "text/plain": [
       "int"
      ]
     },
     "execution_count": 11,
     "metadata": {},
     "output_type": "execute_result"
    }
   ],
   "source": [
    "type(b)"
   ]
  },
  {
   "cell_type": "code",
   "execution_count": 12,
   "id": "bf9f5ed3",
   "metadata": {},
   "outputs": [
    {
     "name": "stdout",
     "output_type": "stream",
     "text": [
      "30.5\n"
     ]
    },
    {
     "data": {
      "text/plain": [
       "float"
      ]
     },
     "execution_count": 12,
     "metadata": {},
     "output_type": "execute_result"
    }
   ],
   "source": [
    "# You can assign, print and check data type in the same cell.\n",
    "a = 30.5\n",
    "print (a)\n",
    "type (a)"
   ]
  },
  {
   "cell_type": "code",
   "execution_count": 13,
   "id": "d5a4a4c1",
   "metadata": {},
   "outputs": [
    {
     "name": "stdout",
     "output_type": "stream",
     "text": [
      "55.5\n"
     ]
    },
    {
     "data": {
      "text/plain": [
       "float"
      ]
     },
     "execution_count": 13,
     "metadata": {},
     "output_type": "execute_result"
    }
   ],
   "source": [
    "a=30\n",
    "b=25.5\n",
    "c=a+b\n",
    "print(c)\n",
    "type(c)"
   ]
  },
  {
   "cell_type": "code",
   "execution_count": 14,
   "id": "f665de7b",
   "metadata": {},
   "outputs": [
    {
     "name": "stdout",
     "output_type": "stream",
     "text": [
      "240\n"
     ]
    }
   ],
   "source": [
    "print(a*8)"
   ]
  },
  {
   "cell_type": "code",
   "execution_count": 15,
   "id": "8ba15dbe",
   "metadata": {},
   "outputs": [
    {
     "ename": "SyntaxError",
     "evalue": "invalid syntax (Temp/ipykernel_4276/1413669092.py, line 1)",
     "output_type": "error",
     "traceback": [
      "\u001b[1;36m  File \u001b[1;32m\"C:\\Users\\SHRIHA~1\\AppData\\Local\\Temp/ipykernel_4276/1413669092.py\"\u001b[1;36m, line \u001b[1;32m1\u001b[0m\n\u001b[1;33m    c=2+3d\u001b[0m\n\u001b[1;37m         ^\u001b[0m\n\u001b[1;31mSyntaxError\u001b[0m\u001b[1;31m:\u001b[0m invalid syntax\n"
     ]
    }
   ],
   "source": [
    "# Complex data in Python doesnt get executed.\n",
    "\n",
    "c=2+3d\n",
    "Type(c)"
   ]
  },
  {
   "cell_type": "code",
   "execution_count": 16,
   "id": "48808273",
   "metadata": {},
   "outputs": [
    {
     "name": "stdout",
     "output_type": "stream",
     "text": [
      "Hello World\n"
     ]
    }
   ],
   "source": [
    "print('Hello World')"
   ]
  },
  {
   "cell_type": "code",
   "execution_count": 18,
   "id": "c017d818",
   "metadata": {},
   "outputs": [],
   "source": [
    "first_string = 'Python'\n",
    "second_string = 'is a Powerful'\n",
    "third_string = 'Language'"
   ]
  },
  {
   "cell_type": "code",
   "execution_count": 19,
   "id": "7d66a40d",
   "metadata": {},
   "outputs": [
    {
     "name": "stdout",
     "output_type": "stream",
     "text": [
      "Python\n"
     ]
    }
   ],
   "source": [
    "print (first_string)"
   ]
  },
  {
   "cell_type": "code",
   "execution_count": 20,
   "id": "0c36c41c",
   "metadata": {},
   "outputs": [
    {
     "name": "stdout",
     "output_type": "stream",
     "text": [
      "Python is a Powerful Language\n"
     ]
    }
   ],
   "source": [
    "print (first_string, second_string , third_string)"
   ]
  },
  {
   "cell_type": "code",
   "execution_count": 21,
   "id": "ebfff8ac",
   "metadata": {},
   "outputs": [
    {
     "name": "stdout",
     "output_type": "stream",
     "text": [
      "Wow Python is Easy\n"
     ]
    }
   ],
   "source": [
    "print ('Wow ' + 'Python ' + 'is Easy')"
   ]
  },
  {
   "cell_type": "code",
   "execution_count": 22,
   "id": "dbea0606",
   "metadata": {},
   "outputs": [
    {
     "name": "stdout",
     "output_type": "stream",
     "text": [
      "Day Day Day Day Day \n"
     ]
    }
   ],
   "source": [
    "print ('Day ' *5)"
   ]
  },
  {
   "cell_type": "code",
   "execution_count": 23,
   "id": "e539a16d",
   "metadata": {},
   "outputs": [
    {
     "ename": "TypeError",
     "evalue": "can only concatenate str (not \"int\") to str",
     "output_type": "error",
     "traceback": [
      "\u001b[1;31m---------------------------------------------------------------------------\u001b[0m",
      "\u001b[1;31mTypeError\u001b[0m                                 Traceback (most recent call last)",
      "\u001b[1;32mC:\\Users\\SHRIHA~1\\AppData\\Local\\Temp/ipykernel_4276/3599385404.py\u001b[0m in \u001b[0;36m<module>\u001b[1;34m\u001b[0m\n\u001b[1;32m----> 1\u001b[1;33m \u001b[0mprint\u001b[0m \u001b[1;33m(\u001b[0m\u001b[1;34m'Day'\u001b[0m\u001b[1;33m+\u001b[0m \u001b[1;36m2\u001b[0m\u001b[1;33m)\u001b[0m\u001b[1;33m\u001b[0m\u001b[1;33m\u001b[0m\u001b[0m\n\u001b[0m",
      "\u001b[1;31mTypeError\u001b[0m: can only concatenate str (not \"int\") to str"
     ]
    }
   ],
   "source": [
    "print ('Day'+ 2)"
   ]
  },
  {
   "cell_type": "code",
   "execution_count": 24,
   "id": "2c15ef74",
   "metadata": {},
   "outputs": [
    {
     "ename": "ValueError",
     "evalue": "invalid literal for int() with base 10: 'Day'",
     "output_type": "error",
     "traceback": [
      "\u001b[1;31m---------------------------------------------------------------------------\u001b[0m",
      "\u001b[1;31mValueError\u001b[0m                                Traceback (most recent call last)",
      "\u001b[1;32mC:\\Users\\SHRIHA~1\\AppData\\Local\\Temp/ipykernel_4276/3342329204.py\u001b[0m in \u001b[0;36m<module>\u001b[1;34m\u001b[0m\n\u001b[1;32m----> 1\u001b[1;33m \u001b[0mprint\u001b[0m \u001b[1;33m(\u001b[0m\u001b[0mint\u001b[0m\u001b[1;33m(\u001b[0m\u001b[1;34m'Day'\u001b[0m\u001b[1;33m)\u001b[0m \u001b[1;33m+\u001b[0m \u001b[1;36m2\u001b[0m\u001b[1;33m)\u001b[0m\u001b[1;33m\u001b[0m\u001b[1;33m\u001b[0m\u001b[0m\n\u001b[0m",
      "\u001b[1;31mValueError\u001b[0m: invalid literal for int() with base 10: 'Day'"
     ]
    }
   ],
   "source": [
    "print (int('Day') + 2)"
   ]
  },
  {
   "cell_type": "code",
   "execution_count": 25,
   "id": "808ab22b",
   "metadata": {},
   "outputs": [
    {
     "name": "stdout",
     "output_type": "stream",
     "text": [
      "Day 2\n"
     ]
    }
   ],
   "source": [
    "print ('Day ' + str(2))"
   ]
  },
  {
   "cell_type": "code",
   "execution_count": 26,
   "id": "7b18daaa",
   "metadata": {},
   "outputs": [
    {
     "name": "stdout",
     "output_type": "stream",
     "text": [
      "Day 2\n"
     ]
    }
   ],
   "source": [
    "print ('Day 2')"
   ]
  },
  {
   "cell_type": "markdown",
   "id": "41a33151",
   "metadata": {},
   "source": [
    "Note: # You can convert number into string datatype but not viceversa"
   ]
  },
  {
   "cell_type": "markdown",
   "id": "f09aee9a",
   "metadata": {},
   "source": [
    "# Python holds DATA in different Structures. \n",
    "Few of the structures are \n",
    "1.List, 2.Tuple, 3.Set, 4.Dictionary"
   ]
  },
  {
   "cell_type": "code",
   "execution_count": 27,
   "id": "5bcdda2e",
   "metadata": {},
   "outputs": [
    {
     "data": {
      "text/plain": [
       "[]"
      ]
     },
     "execution_count": 27,
     "metadata": {},
     "output_type": "execute_result"
    }
   ],
   "source": [
    "l = []\n",
    "l"
   ]
  },
  {
   "cell_type": "code",
   "execution_count": 28,
   "id": "329b3984",
   "metadata": {},
   "outputs": [
    {
     "data": {
      "text/plain": [
       "['p', 'q', 'r']"
      ]
     },
     "execution_count": 28,
     "metadata": {},
     "output_type": "execute_result"
    }
   ],
   "source": [
    "l = ['p', 'q', 'r']\n",
    "l"
   ]
  },
  {
   "cell_type": "code",
   "execution_count": 29,
   "id": "6a6e0203",
   "metadata": {},
   "outputs": [
    {
     "data": {
      "text/plain": [
       "['p', 10, 7.5]"
      ]
     },
     "execution_count": 29,
     "metadata": {},
     "output_type": "execute_result"
    }
   ],
   "source": [
    "l = ['p', 10, 7.5]\n",
    "l"
   ]
  },
  {
   "cell_type": "code",
   "execution_count": 30,
   "id": "9f909052",
   "metadata": {},
   "outputs": [
    {
     "data": {
      "text/plain": [
       "['p', 10, 7.5]"
      ]
     },
     "execution_count": 30,
     "metadata": {},
     "output_type": "execute_result"
    }
   ],
   "source": [
    "#How to copy into other list\n",
    "l2 = list(l)\n",
    "l2"
   ]
  },
  {
   "cell_type": "code",
   "execution_count": 31,
   "id": "00b328e8",
   "metadata": {},
   "outputs": [
    {
     "data": {
      "text/plain": [
       "[35, 40, 75, 80, 95]"
      ]
     },
     "execution_count": 31,
     "metadata": {},
     "output_type": "execute_result"
    }
   ],
   "source": [
    "marks = [35,40,75,80,95]\n",
    "marks"
   ]
  },
  {
   "cell_type": "markdown",
   "id": "992496a0",
   "metadata": {},
   "source": [
    "# If we have to share the data with someone we need to send them the copy data rather then sending them the master sheet\n",
    "copy_marks = marks.copy()-This is the methode"
   ]
  },
  {
   "cell_type": "code",
   "execution_count": 32,
   "id": "d413f58b",
   "metadata": {},
   "outputs": [],
   "source": [
    "copy_marks = marks.copy()"
   ]
  },
  {
   "cell_type": "code",
   "execution_count": 33,
   "id": "a8056152",
   "metadata": {},
   "outputs": [
    {
     "data": {
      "text/plain": [
       "[35, 40, 75, 80, 95]"
      ]
     },
     "execution_count": 33,
     "metadata": {},
     "output_type": "execute_result"
    }
   ],
   "source": [
    "copy_marks"
   ]
  },
  {
   "cell_type": "markdown",
   "id": "421ae3cb",
   "metadata": {},
   "source": [
    "# A python string is also a sequence of characters and can be treated as an iterable over those characters. Combined with the list()function, a new list of the character can easily be generated."
   ]
  },
  {
   "cell_type": "code",
   "execution_count": 34,
   "id": "285474ed",
   "metadata": {},
   "outputs": [
    {
     "data": {
      "text/plain": [
       "['M', 'O', 'N', 'A', 'L', 'I', 'S', 'A']"
      ]
     },
     "execution_count": 34,
     "metadata": {},
     "output_type": "execute_result"
    }
   ],
   "source": [
    "list('MONALISA')"
   ]
  },
  {
   "cell_type": "code",
   "execution_count": 35,
   "id": "2d38032a",
   "metadata": {
    "scrolled": true
   },
   "outputs": [
    {
     "ename": "TypeError",
     "evalue": "'int' object is not iterable",
     "output_type": "error",
     "traceback": [
      "\u001b[1;31m---------------------------------------------------------------------------\u001b[0m",
      "\u001b[1;31mTypeError\u001b[0m                                 Traceback (most recent call last)",
      "\u001b[1;32mC:\\Users\\SHRIHA~1\\AppData\\Local\\Temp/ipykernel_4276/3127724110.py\u001b[0m in \u001b[0;36m<module>\u001b[1;34m\u001b[0m\n\u001b[1;32m----> 1\u001b[1;33m \u001b[0mlist\u001b[0m\u001b[1;33m(\u001b[0m\u001b[1;36m567895\u001b[0m\u001b[1;33m)\u001b[0m\u001b[1;33m\u001b[0m\u001b[1;33m\u001b[0m\u001b[0m\n\u001b[0m",
      "\u001b[1;31mTypeError\u001b[0m: 'int' object is not iterable"
     ]
    }
   ],
   "source": [
    "list(567895)"
   ]
  },
  {
   "cell_type": "markdown",
   "id": "558ac052",
   "metadata": {},
   "source": [
    "# Append: Adding. You can append to a list very easily(add to the end)or insert at an arbitrary index.\n",
    "\n",
    "# Auto dropdown \n",
    "# !pip3 install jedi==0.17.2 or Type datatype like {employee.then press tab} you will get the dropdown\n"
   ]
  },
  {
   "cell_type": "code",
   "execution_count": 37,
   "id": "86a53e7c",
   "metadata": {},
   "outputs": [
    {
     "ename": "NameError",
     "evalue": "name 'Mona' is not defined",
     "output_type": "error",
     "traceback": [
      "\u001b[1;31m---------------------------------------------------------------------------\u001b[0m",
      "\u001b[1;31mNameError\u001b[0m                                 Traceback (most recent call last)",
      "\u001b[1;32mC:\\Users\\SHRIHA~1\\AppData\\Local\\Temp/ipykernel_4276/59119962.py\u001b[0m in \u001b[0;36m<module>\u001b[1;34m\u001b[0m\n\u001b[1;32m----> 1\u001b[1;33m \u001b[0memployee\u001b[0m \u001b[1;33m=\u001b[0m \u001b[1;33m[\u001b[0m\u001b[0mMona\u001b[0m\u001b[1;33m,\u001b[0m \u001b[0mSona\u001b[0m\u001b[1;33m,\u001b[0m \u001b[0mSri\u001b[0m\u001b[1;33m,\u001b[0m \u001b[0mTanuj\u001b[0m\u001b[1;33m,\u001b[0m \u001b[0mOm\u001b[0m\u001b[1;33m]\u001b[0m\u001b[1;33m\u001b[0m\u001b[1;33m\u001b[0m\u001b[0m\n\u001b[0m\u001b[0;32m      2\u001b[0m \u001b[0memployee\u001b[0m\u001b[1;33m\u001b[0m\u001b[1;33m\u001b[0m\u001b[0m\n",
      "\u001b[1;31mNameError\u001b[0m: name 'Mona' is not defined"
     ]
    }
   ],
   "source": [
    "employee = [Mona, Sona, Sri, Tanuj, Om]\n",
    "employee"
   ]
  },
  {
   "cell_type": "code",
   "execution_count": 44,
   "id": "24af1aa7",
   "metadata": {},
   "outputs": [
    {
     "data": {
      "text/plain": [
       "['Mona', 'Sona', 'Sri', 'Tanuj', 'Om']"
      ]
     },
     "execution_count": 44,
     "metadata": {},
     "output_type": "execute_result"
    }
   ],
   "source": [
    "employee = ['Mona', 'Sona', 'Sri', 'Tanuj', 'Om']\n",
    "employee"
   ]
  },
  {
   "cell_type": "code",
   "execution_count": 45,
   "id": "369938c3",
   "metadata": {},
   "outputs": [
    {
     "name": "stdout",
     "output_type": "stream",
     "text": [
      "['Mona', 'Sona', 'Sri', 'Tanuj', 'Om', 'Sai']\n"
     ]
    }
   ],
   "source": [
    "employee.append('Sai')\n",
    "print (employee)"
   ]
  },
  {
   "cell_type": "code",
   "execution_count": 40,
   "id": "1590aaa6",
   "metadata": {},
   "outputs": [
    {
     "ename": "TypeError",
     "evalue": "list.append() takes exactly one argument (2 given)",
     "output_type": "error",
     "traceback": [
      "\u001b[1;31m---------------------------------------------------------------------------\u001b[0m",
      "\u001b[1;31mTypeError\u001b[0m                                 Traceback (most recent call last)",
      "\u001b[1;32mC:\\Users\\SHRIHA~1\\AppData\\Local\\Temp/ipykernel_4276/1405535891.py\u001b[0m in \u001b[0;36m<module>\u001b[1;34m\u001b[0m\n\u001b[1;32m----> 1\u001b[1;33m \u001b[0memployee\u001b[0m\u001b[1;33m.\u001b[0m\u001b[0mappend\u001b[0m\u001b[1;33m(\u001b[0m\u001b[1;34m'Krishna '\u001b[0m\u001b[1;33m,\u001b[0m \u001b[1;34m'Radha'\u001b[0m\u001b[1;33m)\u001b[0m\u001b[1;33m\u001b[0m\u001b[1;33m\u001b[0m\u001b[0m\n\u001b[0m\u001b[0;32m      2\u001b[0m \u001b[0mprint\u001b[0m \u001b[1;33m(\u001b[0m\u001b[0memployee\u001b[0m\u001b[1;33m)\u001b[0m\u001b[1;33m\u001b[0m\u001b[1;33m\u001b[0m\u001b[0m\n",
      "\u001b[1;31mTypeError\u001b[0m: list.append() takes exactly one argument (2 given)"
     ]
    }
   ],
   "source": [
    "employee.append('Krishna ', 'Radha')\n",
    "print (employee)"
   ]
  },
  {
   "cell_type": "markdown",
   "id": "831098e6",
   "metadata": {},
   "source": [
    "# Note:  In List.append only 1 argument can be given one time and the content always gets add at the end."
   ]
  },
  {
   "cell_type": "code",
   "execution_count": 41,
   "id": "d6a87c78",
   "metadata": {},
   "outputs": [
    {
     "name": "stdout",
     "output_type": "stream",
     "text": [
      "['Mona', 'Sona', 'Sri', 'Tanuj', 'Om', 'Sai', 'Krishna', 'Radha']\n"
     ]
    }
   ],
   "source": [
    "employee.append('Krishna')\n",
    "employee.append('Radha')\n",
    "print (employee)"
   ]
  },
  {
   "cell_type": "markdown",
   "id": "c622e70d",
   "metadata": {},
   "source": [
    "# INDEX and INSERT: Two arguments can be placed in insert method.\n",
    "\n",
    "# Syntax: insert(index,object)\n",
    "\n",
    "This method places the object at the index supplied. For example:"
   ]
  },
  {
   "cell_type": "code",
   "execution_count": 46,
   "id": "aed7cf81",
   "metadata": {},
   "outputs": [
    {
     "data": {
      "text/plain": [
       "['Mona', 'Sona', 'Sri', 'Swaroop', 'Tanuj', 'Om', 'Sai']"
      ]
     },
     "execution_count": 46,
     "metadata": {},
     "output_type": "execute_result"
    }
   ],
   "source": [
    "#Use double inverted quotation if your string has quotation\n",
    "employee.insert(3, \"Swaroop\")\n",
    "employee"
   ]
  },
  {
   "cell_type": "code",
   "execution_count": 47,
   "id": "debfa7dd",
   "metadata": {},
   "outputs": [
    {
     "data": {
      "text/plain": [
       "['Mona', 'Sona', 'Lata', 'Swaroop', 'Tanuj', 'Om', 'Sai']"
      ]
     },
     "execution_count": 47,
     "metadata": {},
     "output_type": "execute_result"
    }
   ],
   "source": [
    "employee[2] = 'Lata'\n",
    "employee"
   ]
  },
  {
   "cell_type": "code",
   "execution_count": 48,
   "id": "87f88550",
   "metadata": {},
   "outputs": [
    {
     "data": {
      "text/plain": [
       "7"
      ]
     },
     "execution_count": 48,
     "metadata": {},
     "output_type": "execute_result"
    }
   ],
   "source": [
    "len(employee)"
   ]
  },
  {
   "cell_type": "code",
   "execution_count": 62,
   "id": "91fc75c3",
   "metadata": {},
   "outputs": [],
   "source": [
    "# One more example with numbers\n",
    "emp_salary = [20000, 25000, 70000, 60000]"
   ]
  },
  {
   "cell_type": "code",
   "execution_count": 50,
   "id": "323b5750",
   "metadata": {},
   "outputs": [
    {
     "data": {
      "text/plain": [
       "[20000, 25000, 70000, 15000, 60000]"
      ]
     },
     "execution_count": 50,
     "metadata": {},
     "output_type": "execute_result"
    }
   ],
   "source": [
    "emp_salary.insert(3,15000)\n",
    "emp_salary"
   ]
  },
  {
   "cell_type": "code",
   "execution_count": 51,
   "id": "1acb68cc",
   "metadata": {},
   "outputs": [
    {
     "data": {
      "text/plain": [
       "[20000, 25000, 70000, 15000, 60000]"
      ]
     },
     "execution_count": 51,
     "metadata": {},
     "output_type": "execute_result"
    }
   ],
   "source": [
    "emp_salary"
   ]
  },
  {
   "cell_type": "code",
   "execution_count": 52,
   "id": "f611daa6",
   "metadata": {},
   "outputs": [
    {
     "data": {
      "text/plain": [
       "[20000, 40000, 25000, 70000, 15000, 60000]"
      ]
     },
     "execution_count": 52,
     "metadata": {},
     "output_type": "execute_result"
    }
   ],
   "source": [
    "emp_salary.insert(1,40000)\n",
    "emp_salary"
   ]
  },
  {
   "cell_type": "code",
   "execution_count": 53,
   "id": "32e460c8",
   "metadata": {},
   "outputs": [
    {
     "data": {
      "text/plain": [
       "6"
      ]
     },
     "execution_count": 53,
     "metadata": {},
     "output_type": "execute_result"
    }
   ],
   "source": [
    "len(emp_salary)"
   ]
  },
  {
   "cell_type": "code",
   "execution_count": 54,
   "id": "f2be0d41",
   "metadata": {},
   "outputs": [
    {
     "data": {
      "text/plain": [
       "[20000, 40000, 25000, 70000, 55000, 15000, 60000]"
      ]
     },
     "execution_count": 54,
     "metadata": {},
     "output_type": "execute_result"
    }
   ],
   "source": [
    "emp_salary.insert(4,55000)\n",
    "emp_salary"
   ]
  },
  {
   "cell_type": "code",
   "execution_count": 55,
   "id": "5143af17",
   "metadata": {},
   "outputs": [
    {
     "data": {
      "text/plain": [
       "7"
      ]
     },
     "execution_count": 55,
     "metadata": {},
     "output_type": "execute_result"
    }
   ],
   "source": [
    "len(emp_salary)"
   ]
  },
  {
   "cell_type": "code",
   "execution_count": 56,
   "id": "3d5a3cce",
   "metadata": {
    "scrolled": true
   },
   "outputs": [
    {
     "data": {
      "text/plain": [
       "[20000, 40000, 25000, 70000, 55000, 15000, 60000]"
      ]
     },
     "execution_count": 56,
     "metadata": {},
     "output_type": "execute_result"
    }
   ],
   "source": [
    "emp_salary"
   ]
  },
  {
   "cell_type": "code",
   "execution_count": 57,
   "id": "7c3c5a18",
   "metadata": {},
   "outputs": [
    {
     "data": {
      "text/plain": [
       "[20000, 40000, 35000, 70000, 55000, 15000, 60000]"
      ]
     },
     "execution_count": 57,
     "metadata": {},
     "output_type": "execute_result"
    }
   ],
   "source": [
    "emp_salary [2]=35000\n",
    "emp_salary"
   ]
  },
  {
   "cell_type": "markdown",
   "id": "612dba24",
   "metadata": {},
   "source": [
    "# Indexing and Slicing\n",
    "\n",
    "Indexing and slicing of lists works just like in Strings. Lets fetch the element based on index. This is called Slicing."
   ]
  },
  {
   "cell_type": "code",
   "execution_count": 58,
   "id": "488fd0ab",
   "metadata": {},
   "outputs": [
    {
     "data": {
      "text/plain": [
       "['Mona', 'Sona', 'Lata', 'Swaroop', 'Tanuj', 'Om', 'Sai', 'Krishna', 'Radha']"
      ]
     },
     "execution_count": 58,
     "metadata": {},
     "output_type": "execute_result"
    }
   ],
   "source": [
    "employee = ['Mona', 'Sona', 'Lata', 'Swaroop', 'Tanuj', 'Om', 'Sai', 'Krishna', 'Radha']\n",
    "employee"
   ]
  },
  {
   "cell_type": "code",
   "execution_count": 59,
   "id": "2a653389",
   "metadata": {},
   "outputs": [
    {
     "data": {
      "text/plain": [
       "'Sai'"
      ]
     },
     "execution_count": 59,
     "metadata": {},
     "output_type": "execute_result"
    }
   ],
   "source": [
    "#Grab element based on index\n",
    "\n",
    "employee[6]"
   ]
  },
  {
   "cell_type": "code",
   "execution_count": 60,
   "id": "5244251c",
   "metadata": {},
   "outputs": [
    {
     "data": {
      "text/plain": [
       "['Mona', 'Sona', 'Lata', 'Behera', 'Tanuj', 'Om', 'Sai', 'Krishna', 'Radha']"
      ]
     },
     "execution_count": 60,
     "metadata": {},
     "output_type": "execute_result"
    }
   ],
   "source": [
    "# If you want to change the name in the list below is the process.\n",
    "\n",
    "employee[3] = 'Behera'\n",
    "employee"
   ]
  },
  {
   "cell_type": "code",
   "execution_count": 63,
   "id": "9766f5c8",
   "metadata": {},
   "outputs": [
    {
     "data": {
      "text/plain": [
       "[20000, 25000, 30000, 35000, 70000, 60000]"
      ]
     },
     "execution_count": 63,
     "metadata": {},
     "output_type": "execute_result"
    }
   ],
   "source": [
    "emp_salary = [20000, 25000, 30000, 35000, 70000, 60000]\n",
    "emp_salary"
   ]
  },
  {
   "cell_type": "code",
   "execution_count": 64,
   "id": "832d8fa7",
   "metadata": {},
   "outputs": [
    {
     "data": {
      "text/plain": [
       "[20000, 25000, 30000, 40000, 70000, 60000]"
      ]
     },
     "execution_count": 64,
     "metadata": {},
     "output_type": "execute_result"
    }
   ],
   "source": [
    "# Update the data based on index\n",
    "emp_salary[3] = 40000\n",
    "emp_salary"
   ]
  },
  {
   "cell_type": "code",
   "execution_count": 66,
   "id": "9d1d568a",
   "metadata": {},
   "outputs": [
    {
     "data": {
      "text/plain": [
       "[25000, 30000, 40000, 70000, 60000]"
      ]
     },
     "execution_count": 66,
     "metadata": {},
     "output_type": "execute_result"
    }
   ],
   "source": [
    "# Grab index 1 and everything past it\n",
    "emp_salary[1:]"
   ]
  },
  {
   "cell_type": "code",
   "execution_count": 70,
   "id": "e7c99900",
   "metadata": {},
   "outputs": [
    {
     "data": {
      "text/plain": [
       "[20000, 25000, 30000, 40000, 70000]"
      ]
     },
     "execution_count": 70,
     "metadata": {},
     "output_type": "execute_result"
    }
   ],
   "source": [
    "# Grab everything UP TO index 4. Note:Starting index is always included and ending index is excluded.\n",
    "emp_salary[:5]"
   ]
  },
  {
   "cell_type": "code",
   "execution_count": 71,
   "id": "e0e92e1d",
   "metadata": {},
   "outputs": [
    {
     "data": {
      "text/plain": [
       "[20000, 25000, 30000, 40000]"
      ]
     },
     "execution_count": 71,
     "metadata": {},
     "output_type": "execute_result"
    }
   ],
   "source": [
    "emp_salary[0:4]"
   ]
  },
  {
   "cell_type": "code",
   "execution_count": 72,
   "id": "39cc1739",
   "metadata": {},
   "outputs": [
    {
     "data": {
      "text/plain": [
       "[25000, 30000, 40000, 70000]"
      ]
     },
     "execution_count": 72,
     "metadata": {},
     "output_type": "execute_result"
    }
   ],
   "source": [
    "emp_salary[1:5]"
   ]
  },
  {
   "cell_type": "markdown",
   "id": "d0129110",
   "metadata": {},
   "source": [
    "# We can also use \"+\" to concatenate lists, just like we did for strings."
   ]
  },
  {
   "cell_type": "code",
   "execution_count": 73,
   "id": "7e58e45c",
   "metadata": {},
   "outputs": [
    {
     "data": {
      "text/plain": [
       "[20000, 25000, 30000, 35000, 70000, 60000]"
      ]
     },
     "execution_count": 73,
     "metadata": {},
     "output_type": "execute_result"
    }
   ],
   "source": [
    "emp_salary = [20000, 25000, 30000, 35000, 70000, 60000]\n",
    "emp_salary"
   ]
  },
  {
   "cell_type": "code",
   "execution_count": 75,
   "id": "7a664c59",
   "metadata": {},
   "outputs": [
    {
     "data": {
      "text/plain": [
       "[20000, 25000, 30000, 35000, 70000, 60000, 40000]"
      ]
     },
     "execution_count": 75,
     "metadata": {},
     "output_type": "execute_result"
    }
   ],
   "source": [
    "emp_salary + [40000]"
   ]
  },
  {
   "cell_type": "code",
   "execution_count": 76,
   "id": "e0e70da9",
   "metadata": {},
   "outputs": [
    {
     "data": {
      "text/plain": [
       "[20000, 25000, 30000, 35000, 70000, 60000]"
      ]
     },
     "execution_count": 76,
     "metadata": {},
     "output_type": "execute_result"
    }
   ],
   "source": [
    "emp_salary"
   ]
  },
  {
   "cell_type": "markdown",
   "id": "1ef3cdb5",
   "metadata": {},
   "source": [
    "# Note:Adding any changes to the list this doesn't actually change the original list."
   ]
  },
  {
   "cell_type": "markdown",
   "id": "55ca647b",
   "metadata": {},
   "source": [
    "# In this case you have to reassign the list to make the permanent change."
   ]
  },
  {
   "cell_type": "code",
   "execution_count": 77,
   "id": "102f114a",
   "metadata": {},
   "outputs": [
    {
     "data": {
      "text/plain": [
       "[20000, 25000, 30000, 35000, 70000, 60000, 40000]"
      ]
     },
     "execution_count": 77,
     "metadata": {},
     "output_type": "execute_result"
    }
   ],
   "source": [
    "# Reassign to keep the data permanently\n",
    "emp_salary = emp_salary + [40000]\n",
    "emp_salary"
   ]
  },
  {
   "cell_type": "code",
   "execution_count": 78,
   "id": "0ca4a510",
   "metadata": {},
   "outputs": [
    {
     "data": {
      "text/plain": [
       "[20000,\n",
       " 25000,\n",
       " 30000,\n",
       " 35000,\n",
       " 70000,\n",
       " 60000,\n",
       " 40000,\n",
       " 20000,\n",
       " 25000,\n",
       " 30000,\n",
       " 35000,\n",
       " 70000,\n",
       " 60000,\n",
       " 40000]"
      ]
     },
     "execution_count": 78,
     "metadata": {},
     "output_type": "execute_result"
    }
   ],
   "source": [
    "# Make the list double\n",
    "emp_salary * 2"
   ]
  },
  {
   "cell_type": "markdown",
   "id": "199f3feb",
   "metadata": {},
   "source": [
    "# Note: Again doubling is not permanent"
   ]
  },
  {
   "cell_type": "code",
   "execution_count": 79,
   "id": "2c12a25a",
   "metadata": {},
   "outputs": [
    {
     "name": "stdout",
     "output_type": "stream",
     "text": [
      "**************************************************\n",
      "                     Swaroop                        \n",
      "**************************************************\n"
     ]
    }
   ],
   "source": [
    "print ('*'*50)\n",
    "print ('                     Swaroop                        ')\n",
    "print ('*'*50)"
   ]
  },
  {
   "cell_type": "markdown",
   "id": "b3843c04",
   "metadata": {},
   "source": [
    "# Advanced Lists\n",
    "\n",
    "These are just methods that should encountered without some additional exploring. \n",
    "\n",
    "# COUNT\n"
   ]
  },
  {
   "cell_type": "code",
   "execution_count": 82,
   "id": "80c92d93",
   "metadata": {},
   "outputs": [
    {
     "data": {
      "text/plain": [
       "[30, 80, 99, 58, 69, 70, 77, 90, 99, 100, 67, 77, 99]"
      ]
     },
     "execution_count": 82,
     "metadata": {},
     "output_type": "execute_result"
    }
   ],
   "source": [
    "marks = [ 30,80,99,58,69,70,77,90,99,100,67,77,99]\n",
    "marks"
   ]
  },
  {
   "cell_type": "code",
   "execution_count": 86,
   "id": "79ae793c",
   "metadata": {},
   "outputs": [
    {
     "data": {
      "text/plain": [
       "3"
      ]
     },
     "execution_count": 86,
     "metadata": {},
     "output_type": "execute_result"
    }
   ],
   "source": [
    "marks.count(99)"
   ]
  },
  {
   "cell_type": "markdown",
   "id": "2db82bf2",
   "metadata": {},
   "source": [
    "# Questions like how do we find index position of a particular element or value.\n",
    "\n",
    "# INDEX :Index returns the element placed as an argument. Make a note that if the element is not in the list then it returns an error."
   ]
  },
  {
   "cell_type": "code",
   "execution_count": 87,
   "id": "0fded781",
   "metadata": {},
   "outputs": [
    {
     "data": {
      "text/plain": [
       "[30, 80, 99, 58, 69, 70, 77, 90, 99, 100, 67, 77, 99]"
      ]
     },
     "execution_count": 87,
     "metadata": {},
     "output_type": "execute_result"
    }
   ],
   "source": [
    "marks"
   ]
  },
  {
   "cell_type": "code",
   "execution_count": 88,
   "id": "7bdff9ec",
   "metadata": {},
   "outputs": [
    {
     "data": {
      "text/plain": [
       "2"
      ]
     },
     "execution_count": 88,
     "metadata": {},
     "output_type": "execute_result"
    }
   ],
   "source": [
    "marks.index(99)"
   ]
  },
  {
   "cell_type": "markdown",
   "id": "c73656d7",
   "metadata": {},
   "source": [
    "# Note: If the number is repeatedly their in the list then only the first index position of the given number is shown."
   ]
  },
  {
   "cell_type": "code",
   "execution_count": 89,
   "id": "7edceec3",
   "metadata": {},
   "outputs": [
    {
     "data": {
      "text/plain": [
       "7"
      ]
     },
     "execution_count": 89,
     "metadata": {},
     "output_type": "execute_result"
    }
   ],
   "source": [
    "marks.index(90)"
   ]
  },
  {
   "cell_type": "markdown",
   "id": "9603f360",
   "metadata": {},
   "source": [
    "Extend\n",
    "\n",
    "Many times people find the difference between extend and append to be UNCLEAR. In case of Append the object get add at end."
   ]
  },
  {
   "cell_type": "code",
   "execution_count": 95,
   "id": "7c8ae45b",
   "metadata": {},
   "outputs": [
    {
     "data": {
      "text/plain": [
       "['Mona', 'Sona', 'Lata', 'Swaroop', 'Tanuj']"
      ]
     },
     "execution_count": 95,
     "metadata": {},
     "output_type": "execute_result"
    }
   ],
   "source": [
    "employee = ['Mona', 'Sona', 'Lata', 'Swaroop', 'Tanuj']\n",
    "employee"
   ]
  },
  {
   "cell_type": "code",
   "execution_count": 96,
   "id": "a9b6d82a",
   "metadata": {},
   "outputs": [
    {
     "data": {
      "text/plain": [
       "['Mona', 'Sona', 'Lata', 'Swaroop', 'Tanuj', ['Om', 'Sai']]"
      ]
     },
     "execution_count": 96,
     "metadata": {},
     "output_type": "execute_result"
    }
   ],
   "source": [
    "employee.append(['Om','Sai'])\n",
    "employee"
   ]
  },
  {
   "cell_type": "markdown",
   "id": "a13fc4df",
   "metadata": {},
   "source": [
    "# In this case the square bracket is again appearing inside the list so you can go for EXTEND where the bracket is not included"
   ]
  },
  {
   "cell_type": "code",
   "execution_count": 98,
   "id": "63ee4eab",
   "metadata": {},
   "outputs": [
    {
     "data": {
      "text/plain": [
       "['Mona', 'Sona', 'Lata', 'Swaroop', 'Tanuj', 'Om', 'Sai']"
      ]
     },
     "execution_count": 98,
     "metadata": {},
     "output_type": "execute_result"
    }
   ],
   "source": [
    "employee = ['Mona', 'Sona', 'Lata', 'Swaroop', 'Tanuj']\n",
    "employee.extend(['Om', 'Sai'])\n",
    "employee"
   ]
  },
  {
   "cell_type": "markdown",
   "id": "031de3fb",
   "metadata": {},
   "source": [
    "# Similarly you can add integer data as well. Concept is same for any type data."
   ]
  },
  {
   "cell_type": "markdown",
   "id": "30b7ff70",
   "metadata": {},
   "source": [
    "# POP: Pop is an function which allows us to \"POP\" off the last element of a list."
   ]
  },
  {
   "cell_type": "code",
   "execution_count": 99,
   "id": "35d7c64d",
   "metadata": {},
   "outputs": [
    {
     "data": {
      "text/plain": [
       "['Mona', 'Sona', 'Lata', 'Swaroop', 'Tanuj', 'Om', 'Sai']"
      ]
     },
     "execution_count": 99,
     "metadata": {},
     "output_type": "execute_result"
    }
   ],
   "source": [
    "Employee = ['Mona', 'Sona', 'Lata', 'Swaroop', 'Tanuj', 'Om', 'Sai']\n",
    "Employee"
   ]
  },
  {
   "cell_type": "code",
   "execution_count": 100,
   "id": "a8a04244",
   "metadata": {},
   "outputs": [
    {
     "data": {
      "text/plain": [
       "'Sai'"
      ]
     },
     "execution_count": 100,
     "metadata": {},
     "output_type": "execute_result"
    }
   ],
   "source": [
    "# Deletes the last element by default\n",
    "pop_last = employee.pop()\n",
    "pop_last"
   ]
  },
  {
   "cell_type": "code",
   "execution_count": 101,
   "id": "ab4efc93",
   "metadata": {},
   "outputs": [
    {
     "data": {
      "text/plain": [
       "['Mona', 'Sona', 'Lata', 'Swaroop', 'Tanuj', 'Om']"
      ]
     },
     "execution_count": 101,
     "metadata": {},
     "output_type": "execute_result"
    }
   ],
   "source": [
    "# Verify if its removed\n",
    "employee"
   ]
  },
  {
   "cell_type": "code",
   "execution_count": 102,
   "id": "b0c219e6",
   "metadata": {},
   "outputs": [
    {
     "data": {
      "text/plain": [
       "['Mona', 'Sona', 'Lata', 'Swaroop', 'Tanuj', 'Om', 'Sai']"
      ]
     },
     "execution_count": 102,
     "metadata": {},
     "output_type": "execute_result"
    }
   ],
   "source": [
    "Employee = ['Mona', 'Sona', 'Lata', 'Swaroop', 'Tanuj', 'Om', 'Sai']\n",
    "Employee"
   ]
  },
  {
   "cell_type": "code",
   "execution_count": 103,
   "id": "b2af8f7e",
   "metadata": {},
   "outputs": [
    {
     "data": {
      "text/plain": [
       "'Lata'"
      ]
     },
     "execution_count": 103,
     "metadata": {},
     "output_type": "execute_result"
    }
   ],
   "source": [
    "# Deletes based on index position\n",
    "pop_index=employee.pop(2)\n",
    "pop_index"
   ]
  },
  {
   "cell_type": "code",
   "execution_count": 106,
   "id": "430aaa22",
   "metadata": {},
   "outputs": [
    {
     "data": {
      "text/plain": [
       "'Om'"
      ]
     },
     "execution_count": 106,
     "metadata": {},
     "output_type": "execute_result"
    }
   ],
   "source": [
    "employee = ['Mona', 'Sona', 'Lata', 'Swaroop', 'Tanuj', 'Om', 'Sai']\n",
    "pop_index= employee.pop(5)\n",
    "pop_index"
   ]
  },
  {
   "cell_type": "code",
   "execution_count": 107,
   "id": "39ff53e2",
   "metadata": {},
   "outputs": [
    {
     "data": {
      "text/plain": [
       "['Mona', 'Sona', 'Lata', 'Swaroop', 'Tanuj', 'Sai']"
      ]
     },
     "execution_count": 107,
     "metadata": {},
     "output_type": "execute_result"
    }
   ],
   "source": [
    "# Verify if its removed\n",
    "employee"
   ]
  },
  {
   "cell_type": "markdown",
   "id": "bccb60ef",
   "metadata": {},
   "source": [
    "# Remove: The remove() method removes the first occurrence of a value."
   ]
  },
  {
   "cell_type": "code",
   "execution_count": 108,
   "id": "7f69430d",
   "metadata": {},
   "outputs": [],
   "source": [
    "emp_id =[20, 21, 22, 23, 24, 21, 25, 26]"
   ]
  },
  {
   "cell_type": "code",
   "execution_count": 109,
   "id": "95a1251c",
   "metadata": {},
   "outputs": [
    {
     "data": {
      "text/plain": [
       "[20, 22, 23, 24, 21, 25, 26]"
      ]
     },
     "execution_count": 109,
     "metadata": {},
     "output_type": "execute_result"
    }
   ],
   "source": [
    "# Delete data (if there are duplicates, first element is deleted)\n",
    "emp_id.remove(21)\n",
    "emp_id"
   ]
  },
  {
   "cell_type": "markdown",
   "id": "37d5c0ab",
   "metadata": {},
   "source": [
    "# Reverse: As the name suggests, reverse() helps you to reverse a list. Note this occurs in place! Meaning it effects your list permanently."
   ]
  },
  {
   "cell_type": "code",
   "execution_count": 110,
   "id": "64ef03d4",
   "metadata": {},
   "outputs": [
    {
     "data": {
      "text/plain": [
       "[6, 5, 4, 3, 2, 1]"
      ]
     },
     "execution_count": 110,
     "metadata": {},
     "output_type": "execute_result"
    }
   ],
   "source": [
    "lst = [1,2,3,4,5,6]\n",
    "lst.reverse()\n",
    "lst"
   ]
  },
  {
   "cell_type": "markdown",
   "id": "2737ab41",
   "metadata": {},
   "source": [
    "# Sort : Sort will sort your list in place\n",
    "# Sort is applicable in alphabetical order and also in numerics."
   ]
  },
  {
   "cell_type": "code",
   "execution_count": 111,
   "id": "a6fd6386",
   "metadata": {},
   "outputs": [
    {
     "data": {
      "text/plain": [
       "['Swaroop', 'Raj', 'Om', 'Tanuj', 'Mona', 'Rishi', 'Fathima']"
      ]
     },
     "execution_count": 111,
     "metadata": {},
     "output_type": "execute_result"
    }
   ],
   "source": [
    "emp_name = ['Swaroop','Raj','Om','Tanuj','Mona','Rishi','Fathima']\n",
    "emp_name"
   ]
  },
  {
   "cell_type": "code",
   "execution_count": 119,
   "id": "1835d074",
   "metadata": {},
   "outputs": [
    {
     "data": {
      "text/plain": [
       "['Fathima', 'Mona', 'Om', 'Raj', 'Rishi', 'Swaroop', 'Tanuj']"
      ]
     },
     "execution_count": 119,
     "metadata": {},
     "output_type": "execute_result"
    }
   ],
   "source": [
    "# Sort in the ascending order is by default\n",
    "emp_name.sort()\n",
    "emp_name"
   ]
  },
  {
   "cell_type": "code",
   "execution_count": 120,
   "id": "04f69069",
   "metadata": {},
   "outputs": [
    {
     "data": {
      "text/plain": [
       "['Tanuj', 'Swaroop', 'Rishi', 'Raj', 'Om', 'Mona', 'Fathima']"
      ]
     },
     "execution_count": 120,
     "metadata": {},
     "output_type": "execute_result"
    }
   ],
   "source": [
    "# Sort in the decending order need to write (.sort(reverse=True))\n",
    "emp_name = ['Swaroop','Raj','Om','Tanuj','Mona','Rishi','Fathima']\n",
    "emp_name.sort(reverse=True)\n",
    "emp_name"
   ]
  },
  {
   "cell_type": "code",
   "execution_count": 124,
   "id": "0b689405",
   "metadata": {},
   "outputs": [
    {
     "data": {
      "text/plain": [
       "[7, 6, 5, 4, 3, 2, 1]"
      ]
     },
     "execution_count": 124,
     "metadata": {},
     "output_type": "execute_result"
    }
   ],
   "source": [
    "student_roll=[7,2,3,1,5,6,4]\n",
    "student_roll.sort(reverse=True)\n",
    "student_roll"
   ]
  },
  {
   "cell_type": "code",
   "execution_count": null,
   "id": "3c9fc672",
   "metadata": {},
   "outputs": [],
   "source": []
  },
  {
   "cell_type": "code",
   "execution_count": null,
   "id": "58d61cd8",
   "metadata": {},
   "outputs": [],
   "source": []
  },
  {
   "cell_type": "code",
   "execution_count": null,
   "id": "f6a515fa",
   "metadata": {},
   "outputs": [],
   "source": []
  }
 ],
 "metadata": {
  "celltoolbar": "Raw Cell Format",
  "kernelspec": {
   "display_name": "Python 3 (ipykernel)",
   "language": "python",
   "name": "python3"
  },
  "language_info": {
   "codemirror_mode": {
    "name": "ipython",
    "version": 3
   },
   "file_extension": ".py",
   "mimetype": "text/x-python",
   "name": "python",
   "nbconvert_exporter": "python",
   "pygments_lexer": "ipython3",
   "version": "3.9.7"
  }
 },
 "nbformat": 4,
 "nbformat_minor": 5
}
