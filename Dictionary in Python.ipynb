{
 "cells": [
  {
   "cell_type": "markdown",
   "id": "d6f9f8c6",
   "metadata": {},
   "source": [
    "# Dictionary: A dictionary is a collection data type which has key value pairs.\n",
    "# It is Unordered, mutable, indexed and no duplicate members.\n",
    "\n",
    "# Why use a Python Dictionary: #. Unordered and stores values like a map.\n",
    "   # Contains keyvalue pairs unlike other data types.\n",
    "   # Similar to real life dictionary with distinct key values."
   ]
  },
  {
   "cell_type": "markdown",
   "id": "5f86db0a",
   "metadata": {},
   "source": [
    "# Constructing a dictionary:"
   ]
  },
  {
   "cell_type": "code",
   "execution_count": 1,
   "id": "46c4d738",
   "metadata": {},
   "outputs": [
    {
     "data": {
      "text/plain": [
       "{'key1': 'value1', 'key2': 'value2'}"
      ]
     },
     "execution_count": 1,
     "metadata": {},
     "output_type": "execute_result"
    }
   ],
   "source": [
    "my_dict = {'key1' : 'value1','key2': 'value2'}\n",
    "my_dict"
   ]
  },
  {
   "cell_type": "code",
   "execution_count": 3,
   "id": "b4fd3be3",
   "metadata": {},
   "outputs": [
    {
     "data": {
      "text/plain": [
       "{'Name': 'Shrihan',\n",
       " 'Subjects': ['English', 'Maths', 'Science'],\n",
       " 'Marks': [90, 97, 95]}"
      ]
     },
     "execution_count": 3,
     "metadata": {},
     "output_type": "execute_result"
    }
   ],
   "source": [
    "my_dict_1 = {'Name' : 'Shrihan', 'Subjects': ['English', 'Maths', 'Science'], 'Marks':[90, 97, 95]}\n",
    "my_dict_1"
   ]
  },
  {
   "cell_type": "code",
   "execution_count": 4,
   "id": "530c9304",
   "metadata": {},
   "outputs": [
    {
     "data": {
      "text/plain": [
       "[90, 97, 95]"
      ]
     },
     "execution_count": 4,
     "metadata": {},
     "output_type": "execute_result"
    }
   ],
   "source": [
    "# let's call items from the dictionary\n",
    "my_dict_1['Marks']"
   ]
  },
  {
   "cell_type": "code",
   "execution_count": 5,
   "id": "2d0a4f27",
   "metadata": {},
   "outputs": [
    {
     "data": {
      "text/plain": [
       "['English', 'Maths', 'Science']"
      ]
     },
     "execution_count": 5,
     "metadata": {},
     "output_type": "execute_result"
    }
   ],
   "source": [
    "my_dict_1['Subjects']"
   ]
  },
  {
   "cell_type": "code",
   "execution_count": 6,
   "id": "4cc05235",
   "metadata": {},
   "outputs": [
    {
     "data": {
      "text/plain": [
       "97"
      ]
     },
     "execution_count": 6,
     "metadata": {},
     "output_type": "execute_result"
    }
   ],
   "source": [
    "# Can call an index on that value\n",
    "\n",
    "my_dict_1['Marks'][1]"
   ]
  },
  {
   "cell_type": "code",
   "execution_count": 7,
   "id": "5a81bda8",
   "metadata": {},
   "outputs": [
    {
     "data": {
      "text/plain": [
       "'SCIENCE'"
      ]
     },
     "execution_count": 7,
     "metadata": {},
     "output_type": "execute_result"
    }
   ],
   "source": [
    "#Can then even call methods on that value\n",
    "my_dict_1['Subjects'][2].upper()"
   ]
  },
  {
   "cell_type": "code",
   "execution_count": 8,
   "id": "0e5dc46f",
   "metadata": {},
   "outputs": [
    {
     "data": {
      "text/plain": [
       "'maths'"
      ]
     },
     "execution_count": 8,
     "metadata": {},
     "output_type": "execute_result"
    }
   ],
   "source": [
    "my_dict_1['Subjects'][1].lower()"
   ]
  },
  {
   "cell_type": "code",
   "execution_count": 9,
   "id": "c62f07ff",
   "metadata": {},
   "outputs": [
    {
     "data": {
      "text/plain": [
       "[92, 97, 95]"
      ]
     },
     "execution_count": 9,
     "metadata": {},
     "output_type": "execute_result"
    }
   ],
   "source": [
    "# Methods of adding and subtracting marks as an when required\n",
    "# Method-1\n",
    "my_dict_1['Marks'][0]= my_dict_1['Marks'][0] + 2\n",
    "my_dict_1['Marks']"
   ]
  },
  {
   "cell_type": "code",
   "execution_count": 10,
   "id": "1292ffde",
   "metadata": {},
   "outputs": [
    {
     "data": {
      "text/plain": [
       "[95, 97, 95]"
      ]
     },
     "execution_count": 10,
     "metadata": {},
     "output_type": "execute_result"
    }
   ],
   "source": [
    "# Method-2 (adding, subtracting, Multiplying and Dividing)\n",
    "\n",
    "my_dict_1['Marks'][0] += 3\n",
    "my_dict_1['Marks']"
   ]
  },
  {
   "cell_type": "code",
   "execution_count": 11,
   "id": "41b2decf",
   "metadata": {},
   "outputs": [
    {
     "data": {
      "text/plain": [
       "[95, 94, 95]"
      ]
     },
     "execution_count": 11,
     "metadata": {},
     "output_type": "execute_result"
    }
   ],
   "source": [
    "my_dict_1['Marks'][1] -= 3\n",
    "my_dict_1['Marks']"
   ]
  },
  {
   "cell_type": "code",
   "execution_count": 12,
   "id": "96695a43",
   "metadata": {},
   "outputs": [
    {
     "data": {
      "text/plain": [
       "[95, 282, 95]"
      ]
     },
     "execution_count": 12,
     "metadata": {},
     "output_type": "execute_result"
    }
   ],
   "source": [
    "my_dict_1['Marks'][1] *= 3\n",
    "my_dict_1['Marks']"
   ]
  },
  {
   "cell_type": "code",
   "execution_count": 13,
   "id": "02372096",
   "metadata": {},
   "outputs": [
    {
     "data": {
      "text/plain": [
       "[95, 94.0, 95]"
      ]
     },
     "execution_count": 13,
     "metadata": {},
     "output_type": "execute_result"
    }
   ],
   "source": [
    "my_dict_1['Marks'][1] /= 3\n",
    "my_dict_1['Marks']"
   ]
  },
  {
   "cell_type": "code",
   "execution_count": 14,
   "id": "eec40c7a",
   "metadata": {},
   "outputs": [
    {
     "data": {
      "text/plain": [
       "{'Name': 'Shrihan',\n",
       " 'Subjects': ['English', 'Maths', 'Science'],\n",
       " 'Marks': [95, 94.0, 95],\n",
       " 'Class': 5}"
      ]
     },
     "execution_count": 14,
     "metadata": {},
     "output_type": "execute_result"
    }
   ],
   "source": [
    "# Add new key\n",
    "my_dict_1['Class'] = 5\n",
    "my_dict_1"
   ]
  },
  {
   "cell_type": "code",
   "execution_count": 15,
   "id": "384b7a0f",
   "metadata": {},
   "outputs": [
    {
     "data": {
      "text/plain": [
       "{'Name': 'Manit',\n",
       " 'Subjects': ['English', 'Maths', 'Science'],\n",
       " 'Marks': [95, 94.0, 95],\n",
       " 'Class': 5}"
      ]
     },
     "execution_count": 15,
     "metadata": {},
     "output_type": "execute_result"
    }
   ],
   "source": [
    "# Update values\n",
    "my_dict_1.update({'Name':'Manit'})\n",
    "my_dict_1"
   ]
  },
  {
   "cell_type": "markdown",
   "id": "ed63cfdd",
   "metadata": {},
   "source": [
    "# Items will return both keys and corresponding values. Adding items to my_dict_1 doesn't make any change in the keys or values in it."
   ]
  },
  {
   "cell_type": "code",
   "execution_count": 16,
   "id": "a05fa35e",
   "metadata": {},
   "outputs": [
    {
     "data": {
      "text/plain": [
       "dict_items([('Name', 'Manit'), ('Subjects', ['English', 'Maths', 'Science']), ('Marks', [95, 94.0, 95]), ('Class', 5)])"
      ]
     },
     "execution_count": 16,
     "metadata": {},
     "output_type": "execute_result"
    }
   ],
   "source": [
    "my_dict_1.items()"
   ]
  },
  {
   "cell_type": "code",
   "execution_count": null,
   "id": "92342263",
   "metadata": {},
   "outputs": [],
   "source": []
  },
  {
   "cell_type": "code",
   "execution_count": null,
   "id": "b22cbbcf",
   "metadata": {},
   "outputs": [],
   "source": []
  },
  {
   "cell_type": "code",
   "execution_count": null,
   "id": "bb98a56f",
   "metadata": {},
   "outputs": [],
   "source": []
  },
  {
   "cell_type": "code",
   "execution_count": null,
   "id": "f58c9227",
   "metadata": {},
   "outputs": [],
   "source": []
  }
 ],
 "metadata": {
  "kernelspec": {
   "display_name": "Python 3 (ipykernel)",
   "language": "python",
   "name": "python3"
  },
  "language_info": {
   "codemirror_mode": {
    "name": "ipython",
    "version": 3
   },
   "file_extension": ".py",
   "mimetype": "text/x-python",
   "name": "python",
   "nbconvert_exporter": "python",
   "pygments_lexer": "ipython3",
   "version": "3.9.7"
  }
 },
 "nbformat": 4,
 "nbformat_minor": 5
}
