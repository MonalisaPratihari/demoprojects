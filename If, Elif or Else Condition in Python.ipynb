{
 "cells": [
  {
   "cell_type": "markdown",
   "id": "21324237",
   "metadata": {},
   "source": [
    "# if elif Statement : To show a multi-way decision based on several conditions, we use if elif else statement."
   ]
  },
  {
   "cell_type": "code",
   "execution_count": 4,
   "id": "116c5a2a",
   "metadata": {},
   "outputs": [
    {
     "name": "stdout",
     "output_type": "stream",
     "text": [
      "a is greater than b\n"
     ]
    }
   ],
   "source": [
    "# If elif Statement\n",
    "\n",
    "a = 30\n",
    "b = 20\n",
    "if a > b:\n",
    "    print ('a is greater than b')\n",
    "    \n",
    "elif a == b:\n",
    "    print('a and b are equal')\n",
    "\n",
    "elif a < b:\n",
    "    print('a is less than b')\n",
    "    "
   ]
  },
  {
   "cell_type": "code",
   "execution_count": 5,
   "id": "f692b7c4",
   "metadata": {},
   "outputs": [
    {
     "name": "stdout",
     "output_type": "stream",
     "text": [
      "Today is Holiday\n"
     ]
    }
   ],
   "source": [
    "# If elif else Statement\n",
    "\n",
    "day = 'Friday'\n",
    "if (day == 'Monday'):\n",
    "    print('Today is Monday')\n",
    "elif (day == 'Tuesday') :\n",
    "    print('Today is Tuesday')\n",
    "elif (day == 'Wednesday') :\n",
    "    print('Today is Wednesday')\n",
    "else:\n",
    "    print('Today is Holiday')"
   ]
  },
  {
   "cell_type": "code",
   "execution_count": 6,
   "id": "4136b3ab",
   "metadata": {},
   "outputs": [
    {
     "name": "stdout",
     "output_type": "stream",
     "text": [
      "It is equals to ten\n"
     ]
    }
   ],
   "source": [
    "i = 12\n",
    "\n",
    "if i > 12:\n",
    "    print('It is greater than 12')\n",
    "    \n",
    "elif i==12:\n",
    "    print ('It is equals to ten')\n",
    "    \n",
    "else:\n",
    "    print ('It is less than 11')\n",
    "    "
   ]
  },
  {
   "cell_type": "code",
   "execution_count": 7,
   "id": "058f6037",
   "metadata": {},
   "outputs": [
    {
     "name": "stdout",
     "output_type": "stream",
     "text": [
      "Please add 50 Rs worth of an item for free shipping\n"
     ]
    }
   ],
   "source": [
    "item_1 = 200\n",
    "\n",
    "item_2 = 250\n",
    "\n",
    "if (item_1 + item_2)>= 500:\n",
    "    print('Your items are eligible for free shipping')\n",
    "    \n",
    "else:\n",
    "    extra = 500 - (item_1 + item_2)\n",
    "    print('Please add', extra, 'Rs worth of an item for free shipping')"
   ]
  },
  {
   "cell_type": "code",
   "execution_count": 8,
   "id": "d074326e",
   "metadata": {},
   "outputs": [
    {
     "name": "stdout",
     "output_type": "stream",
     "text": [
      "One is true and other is false\n"
     ]
    }
   ],
   "source": [
    "a = 200 \n",
    "\n",
    "b = 40\n",
    "\n",
    "c = 350\n",
    "\n",
    "if a>b and c<a:\n",
    "    print('Both condition are true')\n",
    "    \n",
    "else: \n",
    "    print('One is true and other is false')"
   ]
  },
  {
   "cell_type": "code",
   "execution_count": 9,
   "id": "1d6b31fb",
   "metadata": {},
   "outputs": [
    {
     "name": "stdout",
     "output_type": "stream",
     "text": [
      "Atleast one of the condition is true\n"
     ]
    }
   ],
   "source": [
    "a = 200 \n",
    "\n",
    "b = 40\n",
    "\n",
    "c = 350\n",
    "\n",
    "if a>b or c<b:\n",
    "    print('Atleast one of the condition is true')\n",
    "    \n",
    "else: \n",
    "    print('One is true and other is false')"
   ]
  },
  {
   "cell_type": "code",
   "execution_count": null,
   "id": "51153701",
   "metadata": {},
   "outputs": [],
   "source": [
    "# Nested Loop: In Python, a nested loop is a loop inside another loop.\n",
    "# Syntax: \n",
    "Outer loop:\n",
    "    Inner loop:\n",
    "          statement of inner loop\n",
    "    statement of outer loop        "
   ]
  },
  {
   "cell_type": "code",
   "execution_count": 10,
   "id": "11af4c96",
   "metadata": {},
   "outputs": [
    {
     "name": "stdout",
     "output_type": "stream",
     "text": [
      "75 - Distinction\n"
     ]
    }
   ],
   "source": [
    "marks = 75\n",
    "\n",
    "if marks >= 60:\n",
    "    if marks > 70:\n",
    "        print (marks, '- Distinction')\n",
    "    else:\n",
    "        print (marks, '- First Class')\n",
    "        \n",
    "elif marks > 50 and marks <= 60: \n",
    "    print (marks, '-Second Class')\n",
    "    \n",
    "elif marks >= 35:\n",
    "    print(marks, '- Pass')\n",
    "    \n",
    "else:\n",
    "    print (marks, 'Fail - Better luck next time')"
   ]
  },
  {
   "cell_type": "code",
   "execution_count": 11,
   "id": "14352be4",
   "metadata": {},
   "outputs": [
    {
     "name": "stdout",
     "output_type": "stream",
     "text": [
      "Its greater than 25\n"
     ]
    }
   ],
   "source": [
    "# Tricky Question: In this statements if statement looks true but the number is in string so it will not execute.\n",
    "# Therefore elif statement will get executed.\n",
    "\n",
    "num1 = 20\n",
    "num2 = 30\n",
    "\n",
    "if num1 =='20':\n",
    "    print ('Its not 20')\n",
    "    \n",
    "elif num2 > 25:\n",
    "    print ('Its greater than 25')"
   ]
  }
 ],
 "metadata": {
  "kernelspec": {
   "display_name": "Python 3 (ipykernel)",
   "language": "python",
   "name": "python3"
  },
  "language_info": {
   "codemirror_mode": {
    "name": "ipython",
    "version": 3
   },
   "file_extension": ".py",
   "mimetype": "text/x-python",
   "name": "python",
   "nbconvert_exporter": "python",
   "pygments_lexer": "ipython3",
   "version": "3.9.7"
  }
 },
 "nbformat": 4,
 "nbformat_minor": 5
}
