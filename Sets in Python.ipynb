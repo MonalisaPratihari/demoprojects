{
 "cells": [
  {
   "cell_type": "markdown",
   "id": "28e4e7cc",
   "metadata": {},
   "source": [
    "# Sets: A Set is basically a data structure consisting of unordered collection of unique elements which can be constructed using the set() function. Elements in sets are not indexed, so you cannot operate indexing operation such as slicing on it."
   ]
  },
  {
   "cell_type": "markdown",
   "id": "24304b44",
   "metadata": {},
   "source": [
    "# When to use sets in Python: Sets can be used in python when the order of data does not matter but your data elements need to be unique.\n",
    "\n",
    "# How to create a Set:\n",
    " # 1. By using curly brackets or 2. By using set constructer"
   ]
  },
  {
   "cell_type": "code",
   "execution_count": 1,
   "id": "7c92aa89",
   "metadata": {},
   "outputs": [
    {
     "data": {
      "text/plain": [
       "{1, 2, 3, 4, 5, 6, 7, 8, 9}"
      ]
     },
     "execution_count": 1,
     "metadata": {},
     "output_type": "execute_result"
    }
   ],
   "source": [
    "Roll_numbers_1A = {1,2,3,4,4,5,6,7,8,9,3,7,8,9}\n",
    "Roll_numbers_1A"
   ]
  },
  {
   "cell_type": "code",
   "execution_count": 2,
   "id": "bffa441e",
   "metadata": {},
   "outputs": [
    {
     "data": {
      "text/plain": [
       "{1, 2, 3, 4, 5, 6, 7, 8, 9, 10}"
      ]
     },
     "execution_count": 2,
     "metadata": {},
     "output_type": "execute_result"
    }
   ],
   "source": [
    "Roll_numbers_1B = set([1,2,3,5,6,7,9,4,2,10,2,8,6])\n",
    "Roll_numbers_1B"
   ]
  },
  {
   "cell_type": "code",
   "execution_count": 4,
   "id": "f12846c0",
   "metadata": {},
   "outputs": [
    {
     "name": "stdout",
     "output_type": "stream",
     "text": [
      "set()\n"
     ]
    }
   ],
   "source": [
    "# How to construct an empty set\n",
    "\n",
    "c= set()\n",
    "print (c)"
   ]
  },
  {
   "cell_type": "code",
   "execution_count": 5,
   "id": "ee839d5d",
   "metadata": {},
   "outputs": [
    {
     "data": {
      "text/plain": [
       "['__and__',\n",
       " '__class__',\n",
       " '__class_getitem__',\n",
       " '__contains__',\n",
       " '__delattr__',\n",
       " '__dir__',\n",
       " '__doc__',\n",
       " '__eq__',\n",
       " '__format__',\n",
       " '__ge__',\n",
       " '__getattribute__',\n",
       " '__gt__',\n",
       " '__hash__',\n",
       " '__iand__',\n",
       " '__init__',\n",
       " '__init_subclass__',\n",
       " '__ior__',\n",
       " '__isub__',\n",
       " '__iter__',\n",
       " '__ixor__',\n",
       " '__le__',\n",
       " '__len__',\n",
       " '__lt__',\n",
       " '__ne__',\n",
       " '__new__',\n",
       " '__or__',\n",
       " '__rand__',\n",
       " '__reduce__',\n",
       " '__reduce_ex__',\n",
       " '__repr__',\n",
       " '__ror__',\n",
       " '__rsub__',\n",
       " '__rxor__',\n",
       " '__setattr__',\n",
       " '__sizeof__',\n",
       " '__str__',\n",
       " '__sub__',\n",
       " '__subclasshook__',\n",
       " '__xor__',\n",
       " 'add',\n",
       " 'clear',\n",
       " 'copy',\n",
       " 'difference',\n",
       " 'difference_update',\n",
       " 'discard',\n",
       " 'intersection',\n",
       " 'intersection_update',\n",
       " 'isdisjoint',\n",
       " 'issubset',\n",
       " 'issuperset',\n",
       " 'pop',\n",
       " 'remove',\n",
       " 'symmetric_difference',\n",
       " 'symmetric_difference_update',\n",
       " 'union',\n",
       " 'update']"
      ]
     },
     "execution_count": 5,
     "metadata": {},
     "output_type": "execute_result"
    }
   ],
   "source": [
    "# Methods which can be used in Sets can be found as directed below\n",
    "\n",
    "dir(c)"
   ]
  },
  {
   "cell_type": "code",
   "execution_count": 6,
   "id": "6a41ba44",
   "metadata": {},
   "outputs": [
    {
     "data": {
      "text/plain": [
       "{1, 2, 3, 4, 5, 6, 7, 8, 9}"
      ]
     },
     "execution_count": 6,
     "metadata": {},
     "output_type": "execute_result"
    }
   ],
   "source": [
    "Roll_numbers_1A = {1,2,3,4,4,5,6,7,8,9,3,7,8,9}\n",
    "Roll_numbers_1A"
   ]
  },
  {
   "cell_type": "code",
   "execution_count": 7,
   "id": "a9252a62",
   "metadata": {},
   "outputs": [
    {
     "data": {
      "text/plain": [
       "9"
      ]
     },
     "execution_count": 7,
     "metadata": {},
     "output_type": "execute_result"
    }
   ],
   "source": [
    "len(Roll_numbers_1A)"
   ]
  },
  {
   "cell_type": "markdown",
   "id": "b7e77d8d",
   "metadata": {},
   "source": [
    "# Adding Element to a Set- Elements can be added to a set using these two functions-\n",
    "# Add() : This function allows you to add a single element to your set\n",
    "# Update() : Used when you want to add more than one element to your set."
   ]
  },
  {
   "cell_type": "code",
   "execution_count": 1,
   "id": "e9f76e07",
   "metadata": {},
   "outputs": [
    {
     "data": {
      "text/plain": [
       "{'Mona', 'Ritu', 'Riya', 'Rohan'}"
      ]
     },
     "execution_count": 1,
     "metadata": {},
     "output_type": "execute_result"
    }
   ],
   "source": [
    "Student_Names = {'Ritu', 'Riya','Rohan', 'Mona'}\n",
    "Student_Names"
   ]
  },
  {
   "cell_type": "code",
   "execution_count": 2,
   "id": "71a19232",
   "metadata": {},
   "outputs": [
    {
     "data": {
      "text/plain": [
       "{'Mona', 'Ritu', 'Riya', 'Rohan', 'Tanuj'}"
      ]
     },
     "execution_count": 2,
     "metadata": {},
     "output_type": "execute_result"
    }
   ],
   "source": [
    "Student_Names.add('Tanuj')\n",
    "Student_Names"
   ]
  },
  {
   "cell_type": "code",
   "execution_count": 3,
   "id": "faa889c3",
   "metadata": {},
   "outputs": [
    {
     "data": {
      "text/plain": [
       "{'Mona', 'Ritu', 'Riya', 'Rohan', 'Siya', 'Sona', 'Tanuj', 'Viral'}"
      ]
     },
     "execution_count": 3,
     "metadata": {},
     "output_type": "execute_result"
    }
   ],
   "source": [
    "Student_Names.update(['Sona','Siya','Viral'])\n",
    "Student_Names"
   ]
  },
  {
   "cell_type": "markdown",
   "id": "584e4efa",
   "metadata": {},
   "source": [
    "# Removing Elements from a Set-\n",
    "# Remove() : Removes an element from the set specified as parameter.\n",
    "# Discard() : Used when you want to remove an element when you are not sure if its actually present in the set or not.\n",
    "# Pop() : Used when you want to remove a random element from the set."
   ]
  },
  {
   "cell_type": "code",
   "execution_count": 4,
   "id": "0646210e",
   "metadata": {},
   "outputs": [
    {
     "data": {
      "text/plain": [
       "{'Mona', 'Ritu', 'Riya', 'Rohan', 'Siya', 'Sona', 'Tanuj', 'Viral'}"
      ]
     },
     "execution_count": 4,
     "metadata": {},
     "output_type": "execute_result"
    }
   ],
   "source": [
    "Student_Names"
   ]
  },
  {
   "cell_type": "code",
   "execution_count": 5,
   "id": "686bf09a",
   "metadata": {},
   "outputs": [
    {
     "data": {
      "text/plain": [
       "{'Mona', 'Ritu', 'Riya', 'Siya', 'Sona', 'Tanuj', 'Viral'}"
      ]
     },
     "execution_count": 5,
     "metadata": {},
     "output_type": "execute_result"
    }
   ],
   "source": [
    "Student_Names.remove('Rohan')\n",
    "Student_Names"
   ]
  },
  {
   "cell_type": "markdown",
   "id": "cf42438a",
   "metadata": {},
   "source": [
    "# Note: In remove method if the element which is not present the set is removed then it shows error.However in discard method if the element is not present still it doesnt show any error."
   ]
  },
  {
   "cell_type": "code",
   "execution_count": 6,
   "id": "b9b386e6",
   "metadata": {},
   "outputs": [
    {
     "data": {
      "text/plain": [
       "{'Mona', 'Ritu', 'Riya', 'Siya', 'Sona', 'Tanuj', 'Viral'}"
      ]
     },
     "execution_count": 6,
     "metadata": {},
     "output_type": "execute_result"
    }
   ],
   "source": [
    "Student_Names"
   ]
  },
  {
   "cell_type": "code",
   "execution_count": 8,
   "id": "495f89de",
   "metadata": {},
   "outputs": [
    {
     "data": {
      "text/plain": [
       "{'Mona', 'Ritu', 'Riya', 'Siya', 'Tanuj', 'Viral'}"
      ]
     },
     "execution_count": 8,
     "metadata": {},
     "output_type": "execute_result"
    }
   ],
   "source": [
    "# Though the item is not present in the set it didnot throw any error.\n",
    "Student_Names.discard('Sara')\n",
    "Student_Names"
   ]
  },
  {
   "cell_type": "code",
   "execution_count": 9,
   "id": "1a4a46e0",
   "metadata": {},
   "outputs": [
    {
     "data": {
      "text/plain": [
       "{'Mona', 'Ritu', 'Riya', 'Siya', 'Tanuj', 'Viral'}"
      ]
     },
     "execution_count": 9,
     "metadata": {},
     "output_type": "execute_result"
    }
   ],
   "source": [
    "Student_Names"
   ]
  },
  {
   "cell_type": "code",
   "execution_count": 11,
   "id": "3ef66588",
   "metadata": {},
   "outputs": [
    {
     "data": {
      "text/plain": [
       "{'Mona', 'Ritu', 'Riya', 'Siya', 'Tanuj'}"
      ]
     },
     "execution_count": 11,
     "metadata": {},
     "output_type": "execute_result"
    }
   ],
   "source": [
    "Student_Names.pop()\n",
    "Student_Names"
   ]
  },
  {
   "cell_type": "code",
   "execution_count": 12,
   "id": "2e06c396",
   "metadata": {},
   "outputs": [
    {
     "data": {
      "text/plain": [
       "{'Mona', 'Ritu', 'Riya', 'Siya', 'Tanuj'}"
      ]
     },
     "execution_count": 12,
     "metadata": {},
     "output_type": "execute_result"
    }
   ],
   "source": [
    "Student_Names"
   ]
  },
  {
   "cell_type": "code",
   "execution_count": 13,
   "id": "b92319ac",
   "metadata": {},
   "outputs": [
    {
     "data": {
      "text/plain": [
       "{'Mona', 'Ritu', 'Riya', 'Siya'}"
      ]
     },
     "execution_count": 13,
     "metadata": {},
     "output_type": "execute_result"
    }
   ],
   "source": [
    "Student_Names.pop()\n",
    "Student_Names"
   ]
  },
  {
   "cell_type": "markdown",
   "id": "4caa1fbc",
   "metadata": {},
   "source": [
    "# Lets see how to remove duplicates from the list and convert the result to a set again"
   ]
  },
  {
   "cell_type": "code",
   "execution_count": 14,
   "id": "aa583f15",
   "metadata": {},
   "outputs": [
    {
     "data": {
      "text/plain": [
       "[1, 2, 4, 5, 3, 2, 6, 7, 8, 4, 5]"
      ]
     },
     "execution_count": 14,
     "metadata": {},
     "output_type": "execute_result"
    }
   ],
   "source": [
    "Remove_dups = [1,2,4,5,3,2,6,7,8,4,5]\n",
    "Remove_dups"
   ]
  },
  {
   "cell_type": "code",
   "execution_count": 16,
   "id": "ac6bd8f2",
   "metadata": {},
   "outputs": [
    {
     "data": {
      "text/plain": [
       "{1, 2, 3, 4, 5, 6, 7, 8}"
      ]
     },
     "execution_count": 16,
     "metadata": {},
     "output_type": "execute_result"
    }
   ],
   "source": [
    "Removed_dups=set(Remove_dups)\n",
    "Removed_dups"
   ]
  },
  {
   "cell_type": "code",
   "execution_count": 17,
   "id": "34473af1",
   "metadata": {},
   "outputs": [
    {
     "data": {
      "text/plain": [
       "[1, 2, 3, 4, 5, 6, 7, 8]"
      ]
     },
     "execution_count": 17,
     "metadata": {},
     "output_type": "execute_result"
    }
   ],
   "source": [
    "Removed_dups = list(Removed_dups)\n",
    "Removed_dups"
   ]
  },
  {
   "cell_type": "code",
   "execution_count": null,
   "id": "151a979f",
   "metadata": {},
   "outputs": [],
   "source": []
  },
  {
   "cell_type": "code",
   "execution_count": null,
   "id": "e4736abe",
   "metadata": {},
   "outputs": [],
   "source": []
  },
  {
   "cell_type": "code",
   "execution_count": null,
   "id": "b2053589",
   "metadata": {},
   "outputs": [],
   "source": []
  },
  {
   "cell_type": "code",
   "execution_count": null,
   "id": "281d4f57",
   "metadata": {},
   "outputs": [],
   "source": []
  }
 ],
 "metadata": {
  "kernelspec": {
   "display_name": "Python 3 (ipykernel)",
   "language": "python",
   "name": "python3"
  },
  "language_info": {
   "codemirror_mode": {
    "name": "ipython",
    "version": 3
   },
   "file_extension": ".py",
   "mimetype": "text/x-python",
   "name": "python",
   "nbconvert_exporter": "python",
   "pygments_lexer": "ipython3",
   "version": "3.9.7"
  }
 },
 "nbformat": 4,
 "nbformat_minor": 5
}
