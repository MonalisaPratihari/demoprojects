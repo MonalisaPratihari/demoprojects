{
 "cells": [
  {
   "cell_type": "markdown",
   "id": "f5a3e393",
   "metadata": {},
   "source": [
    "# What is a Tuple?\n",
    "\n",
    "A tuple is an immutable data type in python, almost similar to a list in python in terms of indexing and having duplicate members. It is a collection data type that stores python objects separated by commas."
   ]
  },
  {
   "cell_type": "code",
   "execution_count": 1,
   "id": "62a5cdd8",
   "metadata": {},
   "outputs": [
    {
     "name": "stdout",
     "output_type": "stream",
     "text": [
      "('Bangalore', 'Chennai', 'Delhi', 'Pune')\n"
     ]
    }
   ],
   "source": [
    "# Creating a tuple \n",
    "\n",
    "a = (\"Bangalore\", \"Chennai\", \"Delhi\",\"Pune\")\n",
    "print(a)"
   ]
  },
  {
   "cell_type": "code",
   "execution_count": 2,
   "id": "9af07858",
   "metadata": {},
   "outputs": [
    {
     "name": "stdout",
     "output_type": "stream",
     "text": [
      "('Bangalore', 'Chennai', 'Delhi', 'Pune')\n"
     ]
    }
   ],
   "source": [
    "a = \"Bangalore\", \"Chennai\", \"Delhi\",\"Pune\"\n",
    "print(a)"
   ]
  },
  {
   "cell_type": "code",
   "execution_count": 3,
   "id": "d353d176",
   "metadata": {},
   "outputs": [
    {
     "name": "stdout",
     "output_type": "stream",
     "text": [
      "(1, 2, 3, 4, 5)\n"
     ]
    }
   ],
   "source": [
    "b = (1,2,3,4,5)\n",
    "print (b)"
   ]
  },
  {
   "cell_type": "markdown",
   "id": "dd3ba3af",
   "metadata": {},
   "source": [
    "# Note: A tuple can be in both way either putting the elements in paranthesis separated by comas or by just putting comas. Both are shown above."
   ]
  },
  {
   "cell_type": "markdown",
   "id": "859c74bb",
   "metadata": {},
   "source": [
    "# Accessing Elements in a Tuple\n",
    "\n",
    "Indexing: It is a data structure technique to effectively retrieve information from a data structure. In python, several data types support indexing\n",
    "\n",
    "Slicing: It is a technique in which we use the slicing operator ':' to get a range of elements from a tuple or any other data type that supports indexing for accessing elements"
   ]
  },
  {
   "cell_type": "code",
   "execution_count": 1,
   "id": "a045784a",
   "metadata": {},
   "outputs": [
    {
     "name": "stdout",
     "output_type": "stream",
     "text": [
      "('Bangalore', 'Chennai', 'Delhi', 'Pune')\n"
     ]
    }
   ],
   "source": [
    "a = (\"Bangalore\", \"Chennai\", \"Delhi\",\"Pune\")\n",
    "print (a)"
   ]
  },
  {
   "cell_type": "code",
   "execution_count": 3,
   "id": "db30df52",
   "metadata": {},
   "outputs": [
    {
     "data": {
      "text/plain": [
       "'Delhi'"
      ]
     },
     "execution_count": 3,
     "metadata": {},
     "output_type": "execute_result"
    }
   ],
   "source": [
    "# Note: When you talk about indexing count from left to right is 0,1,2,....(positive indexing). \n",
    "# Indexing count from right to left is -1, -2,-3......(negative indexing)\n",
    "\n",
    "a [2]"
   ]
  },
  {
   "cell_type": "code",
   "execution_count": 4,
   "id": "8b031949",
   "metadata": {},
   "outputs": [
    {
     "data": {
      "text/plain": [
       "'Chennai'"
      ]
     },
     "execution_count": 4,
     "metadata": {},
     "output_type": "execute_result"
    }
   ],
   "source": [
    "a [-3]"
   ]
  },
  {
   "cell_type": "code",
   "execution_count": 5,
   "id": "9ccfeb18",
   "metadata": {},
   "outputs": [
    {
     "data": {
      "text/plain": [
       "(1, 2, 3, 4, 5, 6, 7)"
      ]
     },
     "execution_count": 5,
     "metadata": {},
     "output_type": "execute_result"
    }
   ],
   "source": [
    "b = (1,2,3,4,5,6,7)\n",
    "b"
   ]
  },
  {
   "cell_type": "code",
   "execution_count": 6,
   "id": "f1252fdf",
   "metadata": {},
   "outputs": [
    {
     "data": {
      "text/plain": [
       "(2, 3, 4, 5, 6, 7)"
      ]
     },
     "execution_count": 6,
     "metadata": {},
     "output_type": "execute_result"
    }
   ],
   "source": [
    "b [1:]"
   ]
  },
  {
   "cell_type": "code",
   "execution_count": 7,
   "id": "4f4557b9",
   "metadata": {},
   "outputs": [
    {
     "data": {
      "text/plain": [
       "(3, 4, 5, 6)"
      ]
     },
     "execution_count": 7,
     "metadata": {},
     "output_type": "execute_result"
    }
   ],
   "source": [
    "b [2:-1]"
   ]
  },
  {
   "cell_type": "code",
   "execution_count": 8,
   "id": "3dad6d61",
   "metadata": {},
   "outputs": [
    {
     "data": {
      "text/plain": [
       "(1, 2, 3, 4, 5, 6)"
      ]
     },
     "execution_count": 8,
     "metadata": {},
     "output_type": "execute_result"
    }
   ],
   "source": [
    "b [:6]"
   ]
  },
  {
   "cell_type": "code",
   "execution_count": 9,
   "id": "8392d27f",
   "metadata": {},
   "outputs": [
    {
     "data": {
      "text/plain": [
       "(1, 2, 3, 4, 5, 6, 7)"
      ]
     },
     "execution_count": 9,
     "metadata": {},
     "output_type": "execute_result"
    }
   ],
   "source": [
    "b [-7:]"
   ]
  },
  {
   "cell_type": "code",
   "execution_count": 12,
   "id": "f5cddfb0",
   "metadata": {},
   "outputs": [
    {
     "data": {
      "text/plain": [
       "(1, 2)"
      ]
     },
     "execution_count": 12,
     "metadata": {},
     "output_type": "execute_result"
    }
   ],
   "source": [
    "b [:-5]"
   ]
  },
  {
   "cell_type": "markdown",
   "id": "286c6593",
   "metadata": {},
   "source": [
    "# Changing a Tuple: Even though tuple is immutable in nature we can make changes in it by converting it into list and make possible changes and again change it back to a tuple. "
   ]
  },
  {
   "cell_type": "code",
   "execution_count": 14,
   "id": "f5805de8",
   "metadata": {},
   "outputs": [
    {
     "data": {
      "text/plain": [
       "('Monday', 'Tuesday', 'Wednesday', 'Thursday')"
      ]
     },
     "execution_count": 14,
     "metadata": {},
     "output_type": "execute_result"
    }
   ],
   "source": [
    "Days = ('Monday', 'Tuesday', 'Wednesday', 'Thursday')\n",
    "Days"
   ]
  },
  {
   "cell_type": "code",
   "execution_count": 15,
   "id": "05df806b",
   "metadata": {},
   "outputs": [
    {
     "ename": "AttributeError",
     "evalue": "'tuple' object has no attribute 'append'",
     "output_type": "error",
     "traceback": [
      "\u001b[1;31m---------------------------------------------------------------------------\u001b[0m",
      "\u001b[1;31mAttributeError\u001b[0m                            Traceback (most recent call last)",
      "\u001b[1;32mC:\\Users\\SHRIHA~1\\AppData\\Local\\Temp/ipykernel_7820/2145150919.py\u001b[0m in \u001b[0;36m<module>\u001b[1;34m\u001b[0m\n\u001b[0;32m      1\u001b[0m \u001b[1;31m# Change the data.\u001b[0m\u001b[1;33m\u001b[0m\u001b[1;33m\u001b[0m\u001b[0m\n\u001b[1;32m----> 2\u001b[1;33m \u001b[0mDays\u001b[0m\u001b[1;33m.\u001b[0m\u001b[0mappend\u001b[0m\u001b[1;33m(\u001b[0m\u001b[1;34m'Friday'\u001b[0m\u001b[1;33m)\u001b[0m\u001b[1;33m\u001b[0m\u001b[1;33m\u001b[0m\u001b[0m\n\u001b[0m\u001b[0;32m      3\u001b[0m \u001b[0mDays\u001b[0m\u001b[1;33m\u001b[0m\u001b[1;33m\u001b[0m\u001b[0m\n",
      "\u001b[1;31mAttributeError\u001b[0m: 'tuple' object has no attribute 'append'"
     ]
    }
   ],
   "source": [
    "# Change the data.\n",
    "Days.append('Friday')\n",
    "Days"
   ]
  },
  {
   "cell_type": "markdown",
   "id": "51210060",
   "metadata": {},
   "source": [
    "# The above action was not possible because tuple doesnt support any changes. Here we need to convert tuple as list and do necessary changes.  "
   ]
  },
  {
   "cell_type": "code",
   "execution_count": 16,
   "id": "0dcd1645",
   "metadata": {},
   "outputs": [
    {
     "data": {
      "text/plain": [
       "['Monday', 'Tuesday', 'Wednesday', 'Thursday']"
      ]
     },
     "execution_count": 16,
     "metadata": {},
     "output_type": "execute_result"
    }
   ],
   "source": [
    "Days= list (Days)\n",
    "Days"
   ]
  },
  {
   "cell_type": "code",
   "execution_count": 17,
   "id": "ef80e056",
   "metadata": {},
   "outputs": [
    {
     "data": {
      "text/plain": [
       "['Monday', 'Tuesday', 'Wednesday', 'Thursday', 'Friday']"
      ]
     },
     "execution_count": 17,
     "metadata": {},
     "output_type": "execute_result"
    }
   ],
   "source": [
    "Days.append('Friday')\n",
    "Days"
   ]
  },
  {
   "cell_type": "markdown",
   "id": "a303024f",
   "metadata": {},
   "source": [
    "# Now after making necessary changes you can convert List data back to Tuple."
   ]
  },
  {
   "cell_type": "code",
   "execution_count": 18,
   "id": "497c6bca",
   "metadata": {},
   "outputs": [
    {
     "data": {
      "text/plain": [
       "('Monday', 'Tuesday', 'Wednesday', 'Thursday', 'Friday')"
      ]
     },
     "execution_count": 18,
     "metadata": {},
     "output_type": "execute_result"
    }
   ],
   "source": [
    "Days = tuple (Days)\n",
    "Days"
   ]
  },
  {
   "cell_type": "code",
   "execution_count": 19,
   "id": "551d7e3c",
   "metadata": {},
   "outputs": [
    {
     "data": {
      "text/plain": [
       "5"
      ]
     },
     "execution_count": 19,
     "metadata": {},
     "output_type": "execute_result"
    }
   ],
   "source": [
    "# Check the length just like a list\n",
    "len(Days)"
   ]
  },
  {
   "cell_type": "markdown",
   "id": "d93caf69",
   "metadata": {},
   "source": [
    "# Note: Even though tuple is immutable in nature the nested object in the tuple can be changed. For Ex."
   ]
  },
  {
   "cell_type": "code",
   "execution_count": 22,
   "id": "a9150584",
   "metadata": {},
   "outputs": [
    {
     "data": {
      "text/plain": [
       "(1, 2, 3, 4, [5, 6, 7, 8])"
      ]
     },
     "execution_count": 22,
     "metadata": {},
     "output_type": "execute_result"
    }
   ],
   "source": [
    "a = (1,2,3,4,[5,6,7,8])\n",
    "a"
   ]
  },
  {
   "cell_type": "code",
   "execution_count": 23,
   "id": "291ab432",
   "metadata": {},
   "outputs": [
    {
     "data": {
      "text/plain": [
       "(1, 2, 3, 4, [5, 6, 9, 8])"
      ]
     },
     "execution_count": 23,
     "metadata": {},
     "output_type": "execute_result"
    }
   ],
   "source": [
    "a[4][2]=9\n",
    "a"
   ]
  },
  {
   "cell_type": "markdown",
   "id": "b01ada3f",
   "metadata": {},
   "source": [
    "# Concatenating two Tuples: It is joining two tuples.Here we need to add two tuples to another variable and it will return the concatenated tuple with the valuesof both the tuples"
   ]
  },
  {
   "cell_type": "code",
   "execution_count": 25,
   "id": "a0e4ef12",
   "metadata": {},
   "outputs": [
    {
     "data": {
      "text/plain": [
       "('Pooja', 'Harry', 'Dany', 'Sonu')"
      ]
     },
     "execution_count": 25,
     "metadata": {},
     "output_type": "execute_result"
    }
   ],
   "source": [
    "a = ('Pooja','Harry','Dany', 'Sonu')\n",
    "a"
   ]
  },
  {
   "cell_type": "code",
   "execution_count": 26,
   "id": "c7e2a877",
   "metadata": {},
   "outputs": [
    {
     "data": {
      "text/plain": [
       "(1, 2, 3, 4)"
      ]
     },
     "execution_count": 26,
     "metadata": {},
     "output_type": "execute_result"
    }
   ],
   "source": [
    "b = (1,2,3,4)\n",
    "b"
   ]
  },
  {
   "cell_type": "code",
   "execution_count": 27,
   "id": "6de985ba",
   "metadata": {},
   "outputs": [
    {
     "name": "stdout",
     "output_type": "stream",
     "text": [
      "('Pooja', 'Harry', 'Dany', 'Sonu', 1, 2, 3, 4)\n"
     ]
    }
   ],
   "source": [
    "c = a + b\n",
    "print (c)"
   ]
  },
  {
   "cell_type": "markdown",
   "id": "e272d9b4",
   "metadata": {},
   "source": [
    "# Note: Deleting a single element in a tuple is not possible but deleting the whole tuple is possible. There is a keyword 'del' which will delete the tuple altogether."
   ]
  },
  {
   "cell_type": "code",
   "execution_count": 28,
   "id": "be70ec5c",
   "metadata": {},
   "outputs": [
    {
     "ename": "NameError",
     "evalue": "name 'c' is not defined",
     "output_type": "error",
     "traceback": [
      "\u001b[1;31m---------------------------------------------------------------------------\u001b[0m",
      "\u001b[1;31mNameError\u001b[0m                                 Traceback (most recent call last)",
      "\u001b[1;32mC:\\Users\\SHRIHA~1\\AppData\\Local\\Temp/ipykernel_7820/441504495.py\u001b[0m in \u001b[0;36m<module>\u001b[1;34m\u001b[0m\n\u001b[0;32m      1\u001b[0m \u001b[1;32mdel\u001b[0m\u001b[1;33m(\u001b[0m\u001b[0mc\u001b[0m\u001b[1;33m)\u001b[0m\u001b[1;33m\u001b[0m\u001b[1;33m\u001b[0m\u001b[0m\n\u001b[1;32m----> 2\u001b[1;33m \u001b[0mc\u001b[0m\u001b[1;33m\u001b[0m\u001b[1;33m\u001b[0m\u001b[0m\n\u001b[0m",
      "\u001b[1;31mNameError\u001b[0m: name 'c' is not defined"
     ]
    }
   ],
   "source": [
    "del(c)\n",
    "c"
   ]
  },
  {
   "cell_type": "markdown",
   "id": "94afc002",
   "metadata": {},
   "source": [
    "# Basic Tuple Methods: 1.Count and 2. Index\n",
    "\n",
    "# Count : Returns the count of the element\n",
    "# Index : Returns the index number of the element.\n"
   ]
  },
  {
   "cell_type": "code",
   "execution_count": 29,
   "id": "f1a332d6",
   "metadata": {},
   "outputs": [
    {
     "data": {
      "text/plain": [
       "(30, 45, 50, 60, 45, 70, 90)"
      ]
     },
     "execution_count": 29,
     "metadata": {},
     "output_type": "execute_result"
    }
   ],
   "source": [
    "numbers = (30, 45, 50, 60, 45, 70, 90)\n",
    "numbers"
   ]
  },
  {
   "cell_type": "code",
   "execution_count": 30,
   "id": "d3466193",
   "metadata": {},
   "outputs": [
    {
     "data": {
      "text/plain": [
       "3"
      ]
     },
     "execution_count": 30,
     "metadata": {},
     "output_type": "execute_result"
    }
   ],
   "source": [
    "# Use .index to enter a value and return the index\n",
    "\n",
    "numbers.index(60)"
   ]
  },
  {
   "cell_type": "code",
   "execution_count": 31,
   "id": "b00b99fc",
   "metadata": {},
   "outputs": [
    {
     "data": {
      "text/plain": [
       "1"
      ]
     },
     "execution_count": 31,
     "metadata": {},
     "output_type": "execute_result"
    }
   ],
   "source": [
    "numbers.index(45)"
   ]
  },
  {
   "cell_type": "markdown",
   "id": "c2e5b502",
   "metadata": {},
   "source": [
    "# Note: If their is repeated numbers in the data only first index position of the given number will be visible."
   ]
  },
  {
   "cell_type": "code",
   "execution_count": 32,
   "id": "3003a3f4",
   "metadata": {},
   "outputs": [
    {
     "data": {
      "text/plain": [
       "1"
      ]
     },
     "execution_count": 32,
     "metadata": {},
     "output_type": "execute_result"
    }
   ],
   "source": [
    "# Use .count to count the number of times a value appears\n",
    "\n",
    "numbers.count(70)"
   ]
  },
  {
   "cell_type": "code",
   "execution_count": 33,
   "id": "4324e948",
   "metadata": {},
   "outputs": [
    {
     "data": {
      "text/plain": [
       "2"
      ]
     },
     "execution_count": 33,
     "metadata": {},
     "output_type": "execute_result"
    }
   ],
   "source": [
    "numbers.count(45)"
   ]
  },
  {
   "cell_type": "code",
   "execution_count": null,
   "id": "016fc656",
   "metadata": {},
   "outputs": [],
   "source": []
  }
 ],
 "metadata": {
  "kernelspec": {
   "display_name": "Python 3 (ipykernel)",
   "language": "python",
   "name": "python3"
  },
  "language_info": {
   "codemirror_mode": {
    "name": "ipython",
    "version": 3
   },
   "file_extension": ".py",
   "mimetype": "text/x-python",
   "name": "python",
   "nbconvert_exporter": "python",
   "pygments_lexer": "ipython3",
   "version": "3.9.7"
  }
 },
 "nbformat": 4,
 "nbformat_minor": 5
}
